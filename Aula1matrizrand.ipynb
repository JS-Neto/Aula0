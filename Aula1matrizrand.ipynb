{
 "cells": [
  {
   "cell_type": "markdown",
   "metadata": {},
   "source": [
    "# Exercício 1"
   ]
  },
  {
   "cell_type": "code",
   "execution_count": 51,
   "metadata": {},
   "outputs": [
    {
     "name": "stdout",
     "output_type": "stream",
     "text": [
      "[[ 0.89442926  0.89319683  0.71163812  0.8271876 ]\n",
      " [ 0.57217697  0.24012011  0.64037963  0.10028343]\n",
      " [ 0.29342458  0.60591916  0.40099509  0.15892517]\n",
      " [ 0.48057442  0.03306498  0.73012837  0.19894514]]\n"
     ]
    }
   ],
   "source": [
    "import numpy as np\n",
    "M = np.random.rand(4,4)\n",
    "np.save ('saved-matrix.npy', M)\n",
    "np.load ('saved-matrix.npy')\n",
    "print (M)\n"
   ]
  }
 ],
 "metadata": {
  "kernelspec": {
   "display_name": "Python 3",
   "language": "python",
   "name": "python3"
  },
  "language_info": {
   "codemirror_mode": {
    "name": "ipython",
    "version": 3
   },
   "file_extension": ".py",
   "mimetype": "text/x-python",
   "name": "python",
   "nbconvert_exporter": "python",
   "pygments_lexer": "ipython3",
   "version": "3.6.2"
  }
 },
 "nbformat": 4,
 "nbformat_minor": 2
}
